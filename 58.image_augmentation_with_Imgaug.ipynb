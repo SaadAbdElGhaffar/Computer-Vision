{
 "cells": [
  {
   "cell_type": "code",
   "execution_count": 1,
   "id": "8feddb48",
   "metadata": {},
   "outputs": [
    {
     "name": "stdout",
     "output_type": "stream",
     "text": [
      "Requirement already satisfied: imgaug in c:\\users\\saada\\appdata\\local\\packages\\pythonsoftwarefoundation.python.3.11_qbz5n2kfra8p0\\localcache\\local-packages\\python311\\site-packages (0.4.0)\n",
      "Requirement already satisfied: six in c:\\users\\saada\\appdata\\local\\packages\\pythonsoftwarefoundation.python.3.11_qbz5n2kfra8p0\\localcache\\local-packages\\python311\\site-packages (from imgaug) (1.17.0)\n",
      "Requirement already satisfied: numpy>=1.15 in c:\\users\\saada\\appdata\\local\\packages\\pythonsoftwarefoundation.python.3.11_qbz5n2kfra8p0\\localcache\\local-packages\\python311\\site-packages (from imgaug) (2.1.3)\n",
      "Requirement already satisfied: scipy in c:\\users\\saada\\appdata\\local\\packages\\pythonsoftwarefoundation.python.3.11_qbz5n2kfra8p0\\localcache\\local-packages\\python311\\site-packages (from imgaug) (1.15.3)\n",
      "Requirement already satisfied: Pillow in c:\\users\\saada\\appdata\\local\\packages\\pythonsoftwarefoundation.python.3.11_qbz5n2kfra8p0\\localcache\\local-packages\\python311\\site-packages (from imgaug) (11.2.1)\n",
      "Requirement already satisfied: matplotlib in c:\\users\\saada\\appdata\\local\\packages\\pythonsoftwarefoundation.python.3.11_qbz5n2kfra8p0\\localcache\\local-packages\\python311\\site-packages (from imgaug) (3.10.3)\n",
      "Requirement already satisfied: scikit-image>=0.14.2 in c:\\users\\saada\\appdata\\local\\packages\\pythonsoftwarefoundation.python.3.11_qbz5n2kfra8p0\\localcache\\local-packages\\python311\\site-packages (from imgaug) (0.25.2)\n",
      "Requirement already satisfied: opencv-python in c:\\users\\saada\\appdata\\local\\packages\\pythonsoftwarefoundation.python.3.11_qbz5n2kfra8p0\\localcache\\local-packages\\python311\\site-packages (from imgaug) (4.11.0.86)\n",
      "Requirement already satisfied: imageio in c:\\users\\saada\\appdata\\local\\packages\\pythonsoftwarefoundation.python.3.11_qbz5n2kfra8p0\\localcache\\local-packages\\python311\\site-packages (from imgaug) (2.37.0)\n",
      "Requirement already satisfied: Shapely in c:\\users\\saada\\appdata\\local\\packages\\pythonsoftwarefoundation.python.3.11_qbz5n2kfra8p0\\localcache\\local-packages\\python311\\site-packages (from imgaug) (2.1.1)\n",
      "Requirement already satisfied: networkx>=3.0 in c:\\users\\saada\\appdata\\local\\packages\\pythonsoftwarefoundation.python.3.11_qbz5n2kfra8p0\\localcache\\local-packages\\python311\\site-packages (from scikit-image>=0.14.2->imgaug) (3.5)\n",
      "Requirement already satisfied: tifffile>=2022.8.12 in c:\\users\\saada\\appdata\\local\\packages\\pythonsoftwarefoundation.python.3.11_qbz5n2kfra8p0\\localcache\\local-packages\\python311\\site-packages (from scikit-image>=0.14.2->imgaug) (2025.6.11)\n",
      "Requirement already satisfied: packaging>=21 in c:\\users\\saada\\appdata\\local\\packages\\pythonsoftwarefoundation.python.3.11_qbz5n2kfra8p0\\localcache\\local-packages\\python311\\site-packages (from scikit-image>=0.14.2->imgaug) (25.0)\n",
      "Requirement already satisfied: lazy-loader>=0.4 in c:\\users\\saada\\appdata\\local\\packages\\pythonsoftwarefoundation.python.3.11_qbz5n2kfra8p0\\localcache\\local-packages\\python311\\site-packages (from scikit-image>=0.14.2->imgaug) (0.4)\n",
      "Requirement already satisfied: contourpy>=1.0.1 in c:\\users\\saada\\appdata\\local\\packages\\pythonsoftwarefoundation.python.3.11_qbz5n2kfra8p0\\localcache\\local-packages\\python311\\site-packages (from matplotlib->imgaug) (1.3.2)\n",
      "Requirement already satisfied: cycler>=0.10 in c:\\users\\saada\\appdata\\local\\packages\\pythonsoftwarefoundation.python.3.11_qbz5n2kfra8p0\\localcache\\local-packages\\python311\\site-packages (from matplotlib->imgaug) (0.12.1)\n",
      "Requirement already satisfied: fonttools>=4.22.0 in c:\\users\\saada\\appdata\\local\\packages\\pythonsoftwarefoundation.python.3.11_qbz5n2kfra8p0\\localcache\\local-packages\\python311\\site-packages (from matplotlib->imgaug) (4.58.2)\n",
      "Requirement already satisfied: kiwisolver>=1.3.1 in c:\\users\\saada\\appdata\\local\\packages\\pythonsoftwarefoundation.python.3.11_qbz5n2kfra8p0\\localcache\\local-packages\\python311\\site-packages (from matplotlib->imgaug) (1.4.8)\n",
      "Requirement already satisfied: pyparsing>=2.3.1 in c:\\users\\saada\\appdata\\local\\packages\\pythonsoftwarefoundation.python.3.11_qbz5n2kfra8p0\\localcache\\local-packages\\python311\\site-packages (from matplotlib->imgaug) (3.2.3)\n",
      "Requirement already satisfied: python-dateutil>=2.7 in c:\\users\\saada\\appdata\\local\\packages\\pythonsoftwarefoundation.python.3.11_qbz5n2kfra8p0\\localcache\\local-packages\\python311\\site-packages (from matplotlib->imgaug) (2.9.0.post0)\n"
     ]
    },
    {
     "name": "stderr",
     "output_type": "stream",
     "text": [
      "\n",
      "[notice] A new release of pip is available: 24.0 -> 25.1.1\n",
      "[notice] To update, run: C:\\Users\\saada\\AppData\\Local\\Microsoft\\WindowsApps\\PythonSoftwareFoundation.Python.3.11_qbz5n2kfra8p0\\python.exe -m pip install --upgrade pip\n"
     ]
    }
   ],
   "source": [
    "!pip install imgaug"
   ]
  },
  {
   "cell_type": "code",
   "execution_count": 4,
   "id": "6dbbc6a3",
   "metadata": {},
   "outputs": [],
   "source": [
    "'make data augmentation with imgaug libary'\n",
    "import imgaug.augmenters as iaa\n",
    "import cv2\n",
    "import glob"
   ]
  },
  {
   "cell_type": "code",
   "execution_count": null,
   "id": "f2a7ff58",
   "metadata": {},
   "outputs": [],
   "source": [
    "# 1. Load Dataset\n",
    "images = []\n",
    "images_path = glob.glob(\"data/augmentation*\")\n",
    "\n",
    "for img_path in images_path:\n",
    "    img = cv2.imread(img_path)\n",
    "    images.append(img)\n",
    "\n",
    "# 2. Image Augmentation\n",
    "augmentation = iaa.Sequential([\n",
    "    # 1. Flip\n",
    "    iaa.Fliplr(0.5), # horizontal flip with 50% probability\n",
    "    iaa. Flipud(1),\n",
    "\n",
    "    # 2. Affine-> translate, rotate, scale\n",
    "    iaa.Affine(translate_percent={\"x\": (-0.2, 0.2), \"y\": (-0.2, 0.2)},\n",
    "    rotate=(-30, 30),\n",
    "    scale=(0.5, 1.5)), # scale image means make it smaller or larger 50% to 150%\n",
    "\n",
    "    # 3. Multiply\n",
    "    iaa.Multiply((0.8, 1.2)), # lighter or darker\n",
    "\n",
    "    # 4. Linearcontrast\n",
    "    iaa.LinearContrast((0.6, 1.4)), # increase or decrease contrast\n",
    "\n",
    "    # Perform methods below only sometimes\n",
    "    iaa.Sometimes(0.5,     # buller 50% of all images\n",
    "    # 5. GaussianBlur\n",
    "    iaa.GaussianBlur((0.0, 3.0)))\n",
    "\n",
    "])\n",
    "\n",
    "# 3. Show Images\n",
    "augmented_images = augmentation(images=images)\n",
    "\n",
    "for img in augmented_images:\n",
    "    cv2.imshow(\"Image\", img)\n",
    "    cv2.waitKey(0)\n",
    "    cv2.destroyAllWindows()"
   ]
  }
 ],
 "metadata": {
  "kernelspec": {
   "display_name": "base",
   "language": "python",
   "name": "python3"
  },
  "language_info": {
   "codemirror_mode": {
    "name": "ipython",
    "version": 3
   },
   "file_extension": ".py",
   "mimetype": "text/x-python",
   "name": "python",
   "nbconvert_exporter": "python",
   "pygments_lexer": "ipython3",
   "version": "3.12.7"
  }
 },
 "nbformat": 4,
 "nbformat_minor": 5
}
