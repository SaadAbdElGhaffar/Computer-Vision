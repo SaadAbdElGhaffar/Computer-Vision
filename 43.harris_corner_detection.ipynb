{
 "cells": [
  {
   "cell_type": "code",
   "execution_count": null,
   "id": "36a92038",
   "metadata": {},
   "outputs": [],
   "source": [
    "# harris corner detection don't effect with the rotation of the image and the instensity(brightness) of the image and fast algorithm is best from the harris corner detection\n",
    "# harris is not invariant to change the scale of the image\n",
    "import numpy as np\n",
    "import cv2\n",
    "\n",
    "img = cv2.imread('data/chess.png')\n",
    "\n",
    "cv2.imshow('img', img)\n",
    "\n",
    "gray = cv2.cvtColor(img, cv2.COLOR_BGR2GRAY)\n",
    "\n",
    "#harris corner only works on float32 image\n",
    "gray = np.float32(gray)\n",
    "dst = cv2.cornerHarris(gray, 2, 3, 0.04)# parameters: src, blockSize, ksize, k\n",
    "# blockSize: size of the neighborhood considered for corner detection we set it to 2 \n",
    "# ksize: aperture parameter of the Sobel derivative used to compute the gradient (gaussian kernel size)\n",
    "# k: Harris detector free parameter in the equation it's between 0.04 and 0.06\n",
    "\n",
    "dst = cv2.dilate(dst, None)#to make the corners more visible\n",
    "\n",
    "img[dst > 0.01* dst.max()]= [0, 0, 255]#we applay threholding to get strong corners\n",
    "\n",
    "cv2.imshow('dst', img)\n",
    "\n",
    "if cv2.waitKey(0) == 27:\n",
    "    cv2.destrovAllWindows()"
   ]
  }
 ],
 "metadata": {
  "kernelspec": {
   "display_name": "Python 3",
   "language": "python",
   "name": "python3"
  },
  "language_info": {
   "codemirror_mode": {
    "name": "ipython",
    "version": 3
   },
   "file_extension": ".py",
   "mimetype": "text/x-python",
   "name": "python",
   "nbconvert_exporter": "python",
   "pygments_lexer": "ipython3",
   "version": "3.11.9"
  }
 },
 "nbformat": 4,
 "nbformat_minor": 5
}
