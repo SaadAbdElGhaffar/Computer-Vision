{
 "cells": [
  {
   "cell_type": "code",
   "execution_count": 2,
   "id": "3237ce2a",
   "metadata": {},
   "outputs": [
    {
     "name": "stdout",
     "output_type": "stream",
     "text": [
      "Checkerboard pattern saved to: data/checkerboard_pattern_8x8.png\n"
     ]
    }
   ],
   "source": [
    "\"\"\"\n",
    "if i want calculate the real measurement like the length of a line in the real world or size we must use the camera calibration parameters.\n",
    "\"\"\"\n",
    "import cv2\n",
    "\n",
    "import numpy as np\n",
    "\n",
    "# Function to generate and save an 8x8 checkerboard pattern\n",
    "def save_checkerboard_image(filename, square_size_cm):\n",
    "    rows, cols = 8, 8\n",
    "    pixels_per_cm = 100  # Adjust this based on your printing resolution\n",
    "\n",
    "    square_size_px = int(square_size_cm * pixels_per_cm)\n",
    "    pattern = np.zeros((rows * square_size_px, cols * square_size_px), dtype=np.uint8) # 8 squrares x 200\n",
    "\n",
    "    for i in range(0, rows, 2): #from 0 to 6\n",
    "        for j in range(0, cols, 2):\n",
    "            pattern[i * square_size_px: (i + 1) * square_size_px, j * square_size_px: (j + 1) * square_size_px] = 255\n",
    "\n",
    "    for i in range(1, rows, 2): # from 1 to 7\n",
    "        for j in range(1, cols, 2):\n",
    "            pattern[i * square_size_px: (i + 1) * square_size_px, j * square_size_px: (j + 1) * square_size_px] = 255\n",
    "\n",
    "    cv2.imwrite(filename, pattern)\n",
    "    print(f\"Checkerboard pattern saved to: {filename}\")\n",
    "\n",
    "# Save the checkerboard pattern as an image file with 2 cm squares\n",
    "save_checkerboard_image(\"data/checkerboard_pattern_8x8.png\", square_size_cm = 2)"
   ]
  },
  {
   "cell_type": "code",
   "execution_count": 3,
   "id": "ce6d89be",
   "metadata": {},
   "outputs": [
    {
     "name": "stdout",
     "output_type": "stream",
     "text": [
      "\"images\" Directory already Exists.\n",
      "Total saved Images: 0\n"
     ]
    }
   ],
   "source": [
    "import cv2 as cv\n",
    "import os\n",
    "\n",
    "CHESS_BOARD_DIM = (7, 7)\n",
    "\n",
    "n = 0  # image_counter\n",
    "\n",
    "# checking if  images dir is exist not, if not then create images directory\n",
    "image_dir_path = \"images\"\n",
    "\n",
    "CHECK_DIR = os.path.isdir('output/'+image_dir_path)\n",
    "# if directory does not exist create\n",
    "if not CHECK_DIR:\n",
    "    os.makedirs('output/'+image_dir_path)\n",
    "    print(f'\"{image_dir_path}\" Directory is created')\n",
    "else:\n",
    "    print(f'\"{image_dir_path}\" Directory already Exists.')\n",
    "\n",
    "criteria = (cv.TERM_CRITERIA_EPS + cv.TERM_CRITERIA_MAX_ITER, 30, 0.001)\n",
    "\n",
    "\n",
    "def detect_checker_board(image, grayImage, criteria, boardDimension):\n",
    "    ret, corners = cv.findChessboardCorners(grayImage, boardDimension)\n",
    "    if ret == True:\n",
    "        corners1 = cv.cornerSubPix(grayImage, corners, (3, 3), (-1, -1), criteria) # cornerSubPix refines(enhancment) the corner locations/(-1, -1) means use default values\n",
    "        # print(corners1)\n",
    "        image = cv.drawChessboardCorners(image, boardDimension, corners1, ret)\n",
    "\n",
    "    return image, ret\n",
    "\n",
    "\n",
    "cap = cv.VideoCapture(0)\n",
    "\n",
    "while True:\n",
    "    _, frame = cap.read()\n",
    "    copyFrame = frame.copy()\n",
    "    gray = cv.cvtColor(frame, cv.COLOR_BGR2GRAY)\n",
    "\n",
    "    image, board_detected = detect_checker_board(frame, gray, criteria, CHESS_BOARD_DIM)\n",
    "    # print(ret)\n",
    "    cv.putText(frame,f\"saved_img : {n}\",(30, 40),cv.FONT_HERSHEY_PLAIN,1.4,(0, 255, 0),2,cv.LINE_AA,)\n",
    "\n",
    "    cv.imshow(\"frame\", frame)\n",
    "    cv.imshow(\"copyFrame\", copyFrame)\n",
    "\n",
    "    key = cv.waitKey(1)\n",
    "\n",
    "    if key == ord(\"q\"):\n",
    "        break\n",
    "    if key == ord(\"s\") and board_detected == True:\n",
    "        # storing the checker board image\n",
    "        cv.imwrite(f\"output/{image_dir_path}/image{n}.png\", copyFrame)\n",
    "\n",
    "        print(f\"saved image number {n}\")\n",
    "        n += 1  # incrementing the image counter\n",
    "cap.release()\n",
    "cv.destroyAllWindows()\n",
    "\n",
    "print(\"Total saved Images:\", n)"
   ]
  },
  {
   "cell_type": "code",
   "execution_count": 4,
   "id": "cf9d386c",
   "metadata": {},
   "outputs": [
    {
     "name": "stdout",
     "output_type": "stream",
     "text": [
      "\"output/calib_data\" Directory is created\n",
      "[[  0.   0.   0.]\n",
      " [ 20.   0.   0.]\n",
      " [ 40.   0.   0.]\n",
      " [ 60.   0.   0.]\n",
      " [ 80.   0.   0.]\n",
      " [100.   0.   0.]\n",
      " [120.   0.   0.]\n",
      " [  0.  20.   0.]\n",
      " [ 20.  20.   0.]\n",
      " [ 40.  20.   0.]\n",
      " [ 60.  20.   0.]\n",
      " [ 80.  20.   0.]\n",
      " [100.  20.   0.]\n",
      " [120.  20.   0.]\n",
      " [  0.  40.   0.]\n",
      " [ 20.  40.   0.]\n",
      " [ 40.  40.   0.]\n",
      " [ 60.  40.   0.]\n",
      " [ 80.  40.   0.]\n",
      " [100.  40.   0.]\n",
      " [120.  40.   0.]\n",
      " [  0.  60.   0.]\n",
      " [ 20.  60.   0.]\n",
      " [ 40.  60.   0.]\n",
      " [ 60.  60.   0.]\n",
      " [ 80.  60.   0.]\n",
      " [100.  60.   0.]\n",
      " [120.  60.   0.]\n",
      " [  0.  80.   0.]\n",
      " [ 20.  80.   0.]\n",
      " [ 40.  80.   0.]\n",
      " [ 60.  80.   0.]\n",
      " [ 80.  80.   0.]\n",
      " [100.  80.   0.]\n",
      " [120.  80.   0.]\n",
      " [  0. 100.   0.]\n",
      " [ 20. 100.   0.]\n",
      " [ 40. 100.   0.]\n",
      " [ 60. 100.   0.]\n",
      " [ 80. 100.   0.]\n",
      " [100. 100.   0.]\n",
      " [120. 100.   0.]\n",
      " [  0. 120.   0.]\n",
      " [ 20. 120.   0.]\n",
      " [ 40. 120.   0.]\n",
      " [ 60. 120.   0.]\n",
      " [ 80. 120.   0.]\n",
      " [100. 120.   0.]\n",
      " [120. 120.   0.]]\n",
      "camera.png\n",
      "calibrated\n",
      "duming the data into one files using numpy \n"
     ]
    }
   ],
   "source": [
    "import cv2 as cv\n",
    "import os\n",
    "import numpy as np\n",
    "\n",
    "# Checker board size\n",
    "CHESS_BOARD_DIM = (7, 7)\n",
    "\n",
    "# The size of Square in the checker board.\n",
    "SQUARE_SIZE = 20  # millimeters\n",
    "\n",
    "# termination criteria\n",
    "criteria = (cv.TERM_CRITERIA_EPS + cv.TERM_CRITERIA_MAX_ITER, 30, 0.001)\n",
    "\n",
    "\n",
    "calib_data_path = \"output/calib_data\"\n",
    "CHECK_DIR = os.path.isdir(calib_data_path)\n",
    "\n",
    "\n",
    "if not CHECK_DIR:\n",
    "    os.makedirs(calib_data_path)\n",
    "    print(f'\"{calib_data_path}\" Directory is created')\n",
    "\n",
    "else:\n",
    "    print(f'\"{calib_data_path}\" Directory already Exists.')\n",
    "\n",
    "# prepare object points, like (0,0,0), (1,0,0), (2,0,0) ....,(6,5,0)\n",
    "obj_3D = np.zeros((CHESS_BOARD_DIM[0] * CHESS_BOARD_DIM[1], 3), np.float32)\n",
    "\n",
    "obj_3D[:, :2] = np.mgrid[0 : CHESS_BOARD_DIM[0], 0 : CHESS_BOARD_DIM[1]].T.reshape(-1, 2)\n",
    "obj_3D *= SQUARE_SIZE\n",
    "print(obj_3D)\n",
    "\n",
    "# Arrays to store object points and image points from all the images.\n",
    "obj_points_3D = []  # 3d point in real world space\n",
    "img_points_2D = []  # 2d points in image plane.\n",
    "\n",
    "# The images directory path\n",
    "image_dir_path = \"output/images\"\n",
    "\n",
    "files = os.listdir(image_dir_path)\n",
    "for file in files:\n",
    "    print(file)\n",
    "    imagePath = os.path.join(image_dir_path, file)\n",
    "    # print(imagePath)\n",
    "\n",
    "    image = cv.imread(imagePath)\n",
    "    grayScale = cv.cvtColor(image, cv.COLOR_BGR2GRAY)\n",
    "    ret, corners = cv.findChessboardCorners(image, CHESS_BOARD_DIM, None)\n",
    "    if ret == True:\n",
    "        obj_points_3D.append(obj_3D)\n",
    "        corners2 = cv.cornerSubPix(grayScale, corners, (3, 3), (-1, -1), criteria)\n",
    "        img_points_2D.append(corners2)\n",
    "\n",
    "        img = cv.drawChessboardCorners(image, CHESS_BOARD_DIM, corners2, ret)\n",
    "\n",
    "cv.destroyAllWindows()\n",
    "# h, w = image.shape[:2]\n",
    "ret, mtx, dist, rvecs, tvecs = cv.calibrateCamera(\n",
    "    obj_points_3D, img_points_2D, grayScale.shape[::-1], None, None)\n",
    "print(\"calibrated\")\n",
    "\n",
    "print(\"duming the data into one files using numpy \")\n",
    "np.savez(\n",
    "    f\"{calib_data_path}/MultiMatrix\",\n",
    "    camMatrix=mtx,\n",
    "    distCoef=dist,\n",
    "    rVector=rvecs,\n",
    "    tVector=tvecs,\n",
    ")"
   ]
  },
  {
   "cell_type": "code",
   "execution_count": 5,
   "id": "0e8d5d66",
   "metadata": {},
   "outputs": [
    {
     "name": "stdout",
     "output_type": "stream",
     "text": [
      "loading data stored using numpy savez function\n",
      " \n",
      " \n",
      "\n",
      "loaded calibration data successfully\n"
     ]
    }
   ],
   "source": [
    "print(\"loading data stored using numpy savez function\\n \\n \\n\")\n",
    "\n",
    "data = np.load(f\"{calib_data_path}/MultiMatrix.npz\")\n",
    "\n",
    "camMatrix = data[\"camMatrix\"]\n",
    "distCof = data[\"distCoef\"]\n",
    "rVector = data[\"rVector\"]\n",
    "tVector = data[\"tVector\"]\n",
    "\n",
    "print(\"loaded calibration data successfully\")"
   ]
  },
  {
   "cell_type": "code",
   "execution_count": 6,
   "id": "fd1c0b91",
   "metadata": {},
   "outputs": [
    {
     "data": {
      "text/plain": [
       "array([[1.15298525e+03, 0.00000000e+00, 3.17226267e+02],\n",
       "       [0.00000000e+00, 6.46724749e+02, 2.16386379e+02],\n",
       "       [0.00000000e+00, 0.00000000e+00, 1.00000000e+00]])"
      ]
     },
     "execution_count": 6,
     "metadata": {},
     "output_type": "execute_result"
    }
   ],
   "source": [
    "camMatrix"
   ]
  },
  {
   "cell_type": "code",
   "execution_count": 7,
   "id": "14b6bcd4",
   "metadata": {},
   "outputs": [
    {
     "data": {
      "text/plain": [
       "array([[  2.22411138, -16.29611692,  -0.06340768,  -0.20192017,\n",
       "         57.03735303]])"
      ]
     },
     "execution_count": 7,
     "metadata": {},
     "output_type": "execute_result"
    }
   ],
   "source": [
    "distCof"
   ]
  },
  {
   "cell_type": "code",
   "execution_count": 8,
   "id": "241e0183",
   "metadata": {},
   "outputs": [
    {
     "data": {
      "text/plain": [
       "array([[[-0.02996723],\n",
       "        [ 0.70681285],\n",
       "        [-0.02000101]]])"
      ]
     },
     "execution_count": 8,
     "metadata": {},
     "output_type": "execute_result"
    }
   ],
   "source": [
    "rVector"
   ]
  },
  {
   "cell_type": "code",
   "execution_count": 12,
   "id": "5cc822d3",
   "metadata": {},
   "outputs": [
    {
     "data": {
      "text/plain": [
       "array([[[ -9.38749417],\n",
       "        [ 49.36670024],\n",
       "        [685.34517541]]])"
      ]
     },
     "execution_count": 12,
     "metadata": {},
     "output_type": "execute_result"
    }
   ],
   "source": [
    "tVector"
   ]
  },
  {
   "cell_type": "code",
   "execution_count": 10,
   "id": "d85b660d",
   "metadata": {},
   "outputs": [
    {
     "data": {
      "text/plain": [
       "array([[  0.,   0.,   0.],\n",
       "       [ 20.,   0.,   0.],\n",
       "       [ 40.,   0.,   0.],\n",
       "       [ 60.,   0.,   0.],\n",
       "       [ 80.,   0.,   0.],\n",
       "       [100.,   0.,   0.],\n",
       "       [120.,   0.,   0.],\n",
       "       [  0.,  20.,   0.],\n",
       "       [ 20.,  20.,   0.],\n",
       "       [ 40.,  20.,   0.],\n",
       "       [ 60.,  20.,   0.],\n",
       "       [ 80.,  20.,   0.],\n",
       "       [100.,  20.,   0.],\n",
       "       [120.,  20.,   0.],\n",
       "       [  0.,  40.,   0.],\n",
       "       [ 20.,  40.,   0.],\n",
       "       [ 40.,  40.,   0.],\n",
       "       [ 60.,  40.,   0.],\n",
       "       [ 80.,  40.,   0.],\n",
       "       [100.,  40.,   0.],\n",
       "       [120.,  40.,   0.],\n",
       "       [  0.,  60.,   0.],\n",
       "       [ 20.,  60.,   0.],\n",
       "       [ 40.,  60.,   0.],\n",
       "       [ 60.,  60.,   0.],\n",
       "       [ 80.,  60.,   0.],\n",
       "       [100.,  60.,   0.],\n",
       "       [120.,  60.,   0.],\n",
       "       [  0.,  80.,   0.],\n",
       "       [ 20.,  80.,   0.],\n",
       "       [ 40.,  80.,   0.],\n",
       "       [ 60.,  80.,   0.],\n",
       "       [ 80.,  80.,   0.],\n",
       "       [100.,  80.,   0.],\n",
       "       [120.,  80.,   0.],\n",
       "       [  0., 100.,   0.],\n",
       "       [ 20., 100.,   0.],\n",
       "       [ 40., 100.,   0.],\n",
       "       [ 60., 100.,   0.],\n",
       "       [ 80., 100.,   0.],\n",
       "       [100., 100.,   0.],\n",
       "       [120., 100.,   0.],\n",
       "       [  0., 120.,   0.],\n",
       "       [ 20., 120.,   0.],\n",
       "       [ 40., 120.,   0.],\n",
       "       [ 60., 120.,   0.],\n",
       "       [ 80., 120.,   0.],\n",
       "       [100., 120.,   0.],\n",
       "       [120., 120.,   0.]], dtype=float32)"
      ]
     },
     "execution_count": 10,
     "metadata": {},
     "output_type": "execute_result"
    }
   ],
   "source": [
    "import numpy as np\n",
    "\n",
    "objp = np.zeros((7*7,3), np.float32)\n",
    "objp[:,:2] = np.mgrid[0:7,0:7].T.reshape(-1,2)\n",
    "objp *= 20\n",
    "objp"
   ]
  },
  {
   "cell_type": "code",
   "execution_count": 11,
   "id": "6b7d84db",
   "metadata": {},
   "outputs": [
    {
     "data": {
      "text/plain": [
       "array([[  0.,   0.],\n",
       "       [ 20.,   0.],\n",
       "       [ 40.,   0.],\n",
       "       [ 60.,   0.],\n",
       "       [ 80.,   0.],\n",
       "       [100.,   0.],\n",
       "       [120.,   0.],\n",
       "       [  0.,  20.],\n",
       "       [ 20.,  20.],\n",
       "       [ 40.,  20.],\n",
       "       [ 60.,  20.],\n",
       "       [ 80.,  20.],\n",
       "       [100.,  20.],\n",
       "       [120.,  20.],\n",
       "       [  0.,  40.],\n",
       "       [ 20.,  40.],\n",
       "       [ 40.,  40.],\n",
       "       [ 60.,  40.],\n",
       "       [ 80.,  40.],\n",
       "       [100.,  40.],\n",
       "       [120.,  40.],\n",
       "       [  0.,  60.],\n",
       "       [ 20.,  60.],\n",
       "       [ 40.,  60.],\n",
       "       [ 60.,  60.],\n",
       "       [ 80.,  60.],\n",
       "       [100.,  60.],\n",
       "       [120.,  60.],\n",
       "       [  0.,  80.],\n",
       "       [ 20.,  80.],\n",
       "       [ 40.,  80.],\n",
       "       [ 60.,  80.],\n",
       "       [ 80.,  80.],\n",
       "       [100.,  80.],\n",
       "       [120.,  80.],\n",
       "       [  0., 100.],\n",
       "       [ 20., 100.],\n",
       "       [ 40., 100.],\n",
       "       [ 60., 100.],\n",
       "       [ 80., 100.],\n",
       "       [100., 100.],\n",
       "       [120., 100.],\n",
       "       [  0., 120.],\n",
       "       [ 20., 120.],\n",
       "       [ 40., 120.],\n",
       "       [ 60., 120.],\n",
       "       [ 80., 120.],\n",
       "       [100., 120.],\n",
       "       [120., 120.]], dtype=float32)"
      ]
     },
     "execution_count": 11,
     "metadata": {},
     "output_type": "execute_result"
    }
   ],
   "source": [
    "objp[:,:2]"
   ]
  }
 ],
 "metadata": {
  "kernelspec": {
   "display_name": "base",
   "language": "python",
   "name": "python3"
  },
  "language_info": {
   "codemirror_mode": {
    "name": "ipython",
    "version": 3
   },
   "file_extension": ".py",
   "mimetype": "text/x-python",
   "name": "python",
   "nbconvert_exporter": "python",
   "pygments_lexer": "ipython3",
   "version": "3.12.7"
  }
 },
 "nbformat": 4,
 "nbformat_minor": 5
}
