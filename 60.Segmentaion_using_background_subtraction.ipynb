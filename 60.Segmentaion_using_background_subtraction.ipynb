{
 "cells": [
  {
   "cell_type": "code",
   "execution_count": 1,
   "id": "f7f5ba8a",
   "metadata": {},
   "outputs": [],
   "source": [
    "import cv2\n",
    "# in this technique must have a static background and camera don't move and the illumination is constant\n",
    "cap = cv2.VideoCapture(\"data/video.mp4\")\n",
    "_, first_frame = cap.read()\n",
    "first_gray = cv2.cvtColor(first_frame, cv2.COLOR_BGR2GRAY)\n",
    "first_gray = cv2.GaussianBlur(first_gray, (5, 5), 0)\n",
    "while True:\n",
    "    ret, frame = cap.read()\n",
    "    if ret == False:\n",
    "        break\n",
    "    gray_frame = cv2.cvtColor(frame, cv2.COLOR_BGR2GRAY)\n",
    "    gray_frame = cv2.GaussianBlur(gray_frame, (5,5),0)\n",
    "    difference = cv2.absdiff(first_gray, gray_frame)\n",
    "    _, difference = cv2.threshold(difference, 50, 255, cv2.THRESH_BINARY)\n",
    "\n",
    "    cv2.imshow(\"First frame\", first_frame)\n",
    "    cv2.imshow(\"Frame\", frame)\n",
    "    cv2.imshow(\"difference\", difference)\n",
    "\n",
    "    key = cv2.waitKey(30)\n",
    "    if key == 27:\n",
    "        break\n",
    "\n",
    "cap.release()\n",
    "cv2.destroyAllWindows()"
   ]
  },
  {
   "cell_type": "markdown",
   "id": "2a2ba2d2",
   "metadata": {},
   "source": [
    "Anthor effective method for image segmentation, especially in videos, is **background subtraction**.  \n",
    "In OpenCV, this can be implemented using the `cv2.createBackgroundSubtractorMOG2()` method."
   ]
  },
  {
   "cell_type": "code",
   "execution_count": 10,
   "id": "75ff6b45",
   "metadata": {},
   "outputs": [],
   "source": [
    "import numpy as np\n",
    "\n",
    "cap = cv2.VideoCapture(\"data/video.mp4\")\n",
    "\n",
    "subtractor = cv2.createBackgroundSubtractorMOG2(history=25, varThreshold=50 , detectShadows=False)\n",
    "\n",
    "while True:\n",
    "    _, frame = cap.read()\n",
    "\n",
    "    mask = subtractor.apply(frame)\n",
    "\n",
    "    cv2.imshow(\"Frame\", frame)\n",
    "    cv2.imshow(\"mask\", mask)\n",
    "\n",
    "    key = cv2.waitKey(30)\n",
    "    if key == 27:\n",
    "        break\n",
    "\n",
    "cap.release()\n",
    "cv2.destroyAllWindows()"
   ]
  }
 ],
 "metadata": {
  "kernelspec": {
   "display_name": "base",
   "language": "python",
   "name": "python3"
  },
  "language_info": {
   "codemirror_mode": {
    "name": "ipython",
    "version": 3
   },
   "file_extension": ".py",
   "mimetype": "text/x-python",
   "name": "python",
   "nbconvert_exporter": "python",
   "pygments_lexer": "ipython3",
   "version": "3.12.7"
  }
 },
 "nbformat": 4,
 "nbformat_minor": 5
}
