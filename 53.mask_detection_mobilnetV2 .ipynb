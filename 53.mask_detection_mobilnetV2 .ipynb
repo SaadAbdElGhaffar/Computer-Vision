{
 "cells": [
  {
   "cell_type": "code",
   "execution_count": 1,
   "id": "25361ace",
   "metadata": {},
   "outputs": [],
   "source": [
    "# import the necessary packages\n",
    "from tensorflow.keras.preprocessing.image import ImageDataGenerator\n",
    "from tensorflow.keras.applications import MobileNetV2\n",
    "from tensorflow.keras.layers import AveragePooling2D\n",
    "from tensorflow.keras.layers import Dropout\n",
    "from tensorflow.keras.layers import Flatten\n",
    "from tensorflow.keras.layers import Dense\n",
    "from tensorflow.keras.layers import Input\n",
    "from tensorflow.keras.models import Model\n",
    "from tensorflow.keras.optimizers import Adam\n",
    "from tensorflow.keras.applications.mobilenet_v2 import preprocess_input\n",
    "from tensorflow.keras.preprocessing.image import img_to_array\n",
    "from tensorflow.keras.preprocessing.image import load_img\n",
    "from tensorflow.keras.utils import to_categorical\n",
    "from sklearn.preprocessing import LabelBinarizer\n",
    "from sklearn.model_selection import train_test_split\n",
    "from sklearn.metrics import classification_report\n",
    "import matplotlib.pyplot as plt\n",
    "import numpy as np\n",
    "import os"
   ]
  },
  {
   "cell_type": "code",
   "execution_count": 5,
   "id": "7ce6e3e4",
   "metadata": {},
   "outputs": [
    {
     "name": "stdout",
     "output_type": "stream",
     "text": [
      "[INFO] loading images ... \n"
     ]
    },
    {
     "name": "stderr",
     "output_type": "stream",
     "text": [
      "d:\\Program\\Anaconda\\Lib\\site-packages\\PIL\\Image.py:1056: UserWarning: Palette images with Transparency expressed in bytes should be converted to RGBA images\n",
      "  warnings.warn(\n"
     ]
    }
   ],
   "source": [
    "# initialize the initial learning rate, number of epochs to train for,\n",
    "# and batch size\n",
    "INIT_LR = 1e-4\n",
    "EPOCHS = 20\n",
    "BS = 32\n",
    "\n",
    "DIRECTORY = r\"data/Face-Mask-Detection\"\n",
    "CATEGORIES = [\"with_mask\", \"without_mask\"]\n",
    "\n",
    "# grab the list of images in our dataset directory, then initialize\n",
    "# the list of data (i.e., images) and class images\n",
    "print(\"[INFO] loading images ... \")\n",
    "\n",
    "data = []\n",
    "labels = []\n",
    "\n",
    "for category in CATEGORIES:\n",
    "    path = os.path.join(DIRECTORY, category)\n",
    "    for img in os.listdir(path):\n",
    "        img_path = os.path.join(path, img)\n",
    "        image = load_img(img_path, target_size=(224, 224))\n",
    "        image = img_to_array(image)\n",
    "        image = preprocess_input(image)\n",
    "\n",
    "        data.append(image)\n",
    "        labels.append(category)"
   ]
  },
  {
   "cell_type": "code",
   "execution_count": 6,
   "id": "58197b6b",
   "metadata": {},
   "outputs": [],
   "source": [
    "# perform one-hot encoding on the labels\n",
    "lb = LabelBinarizer()\n",
    "labels = lb.fit_transform(labels)# work with 1d column or row vector not work with more than one feature unlike OneHotEncoder\n",
    "labels = to_categorical(labels)  #class vector to be converted into a matrix \n",
    "\n",
    "data = np.array(data, dtype=\"float32\")\n",
    "labels = np.array(labels)\n",
    "\n",
    "(trainX, testX, trainY, testY) = train_test_split(data, labels,\n",
    "                                      test_size=0.20, stratify=labels, random_state=42)"
   ]
  },
  {
   "cell_type": "code",
   "execution_count": 7,
   "id": "8674f8bf",
   "metadata": {},
   "outputs": [],
   "source": [
    "# construct the training image generator for data augmentation\n",
    "aug = ImageDataGenerator(\n",
    "        rotation_range=20,\n",
    "        zoom_range=0.15,\n",
    "        width_shift_range=0.2,\n",
    "        height_shift_range=0.2,\n",
    "        shear_range=0.15,\n",
    "        horizontal_flip=True,\n",
    "        fill_mode=\"nearest\")"
   ]
  },
  {
   "cell_type": "code",
   "execution_count": 8,
   "id": "e8623eb0",
   "metadata": {},
   "outputs": [
    {
     "name": "stderr",
     "output_type": "stream",
     "text": [
      "C:\\Users\\saada\\AppData\\Local\\Temp\\ipykernel_3944\\3542808219.py:3: UserWarning: `input_shape` is undefined or non-square, or `rows` is not in [96, 128, 160, 192, 224]. Weights for input shape (224, 224) will be loaded as the default.\n",
      "  baseModel = MobileNetV2(weights=\"imagenet\", include_top=False,\n"
     ]
    },
    {
     "name": "stdout",
     "output_type": "stream",
     "text": [
      "Downloading data from https://storage.googleapis.com/tensorflow/keras-applications/mobilenet_v2/mobilenet_v2_weights_tf_dim_ordering_tf_kernels_1.0_224_no_top.h5\n",
      "\u001b[1m9406464/9406464\u001b[0m \u001b[32m━━━━━━━━━━━━━━━━━━━━\u001b[0m\u001b[37m\u001b[0m \u001b[1m6s\u001b[0m 1us/step\n"
     ]
    }
   ],
   "source": [
    "# Load the MobileNetV2 network, ensuring the head FC Layer sets are\n",
    "# left off\n",
    "baseModel = MobileNetV2(weights=\"imagenet\", include_top=False,\n",
    "input_tensor=Input(shape=(224, 224,3)))\n",
    "\n",
    "# construct the head of the model that will be placed on top of the\n",
    "# the base model\n",
    "headModel = baseModel.output \n",
    "headModel = AveragePooling2D(pool_size=(7,7))(headModel)\n",
    "headModel = Flatten(name=\"flatten\") (headModel)\n",
    "headModel = Dense(128, activation=\"relu\") (headModel)\n",
    "headModel = Dropout(0.5)(headModel)\n",
    "headModel = Dense(2, activation=\"softmax\")(headModel)\n",
    "\n",
    "# place the head FC model on top of the base model (this will become\n",
    "# the actual model we will train)\n",
    "model = Model(inputs=baseModel.input, outputs=headModel)"
   ]
  },
  {
   "cell_type": "code",
   "execution_count": 10,
   "id": "617b8f19",
   "metadata": {},
   "outputs": [
    {
     "name": "stdout",
     "output_type": "stream",
     "text": [
      "[INFO] compiling model ... \n",
      "[INFO] training head ... \n"
     ]
    },
    {
     "name": "stderr",
     "output_type": "stream",
     "text": [
      "d:\\Program\\Anaconda\\Lib\\site-packages\\keras\\src\\optimizers\\base_optimizer.py:86: UserWarning: Argument `decay` is no longer supported and will be ignored.\n",
      "  warnings.warn(\n",
      "d:\\Program\\Anaconda\\Lib\\site-packages\\keras\\src\\trainers\\data_adapters\\py_dataset_adapter.py:121: UserWarning: Your `PyDataset` class should call `super().__init__(**kwargs)` in its constructor. `**kwargs` can include `workers`, `use_multiprocessing`, `max_queue_size`. Do not pass these arguments to `fit()`, as they will be ignored.\n",
      "  self._warn_if_super_not_called()\n"
     ]
    },
    {
     "name": "stdout",
     "output_type": "stream",
     "text": [
      "Epoch 1/20\n",
      "\u001b[1m95/95\u001b[0m \u001b[32m━━━━━━━━━━━━━━━━━━━━\u001b[0m\u001b[37m\u001b[0m \u001b[1m104s\u001b[0m 917ms/step - accuracy: 0.7149 - loss: 0.5909 - val_accuracy: 0.9883 - val_loss: 0.1456\n",
      "Epoch 2/20\n",
      "\u001b[1m 1/95\u001b[0m \u001b[37m━━━━━━━━━━━━━━━━━━━━\u001b[0m \u001b[1m43s\u001b[0m 460ms/step - accuracy: 1.0000 - loss: 0.1860"
     ]
    },
    {
     "name": "stderr",
     "output_type": "stream",
     "text": [
      "d:\\Program\\Anaconda\\Lib\\site-packages\\keras\\src\\trainers\\epoch_iterator.py:116: UserWarning: Your input ran out of data; interrupting training. Make sure that your dataset or generator can generate at least `steps_per_epoch * epochs` batches. You may need to use the `.repeat()` function when building your dataset.\n",
      "  self._interrupted_warning()\n"
     ]
    },
    {
     "name": "stdout",
     "output_type": "stream",
     "text": [
      "\u001b[1m95/95\u001b[0m \u001b[32m━━━━━━━━━━━━━━━━━━━━\u001b[0m\u001b[37m\u001b[0m \u001b[1m11s\u001b[0m 113ms/step - accuracy: 1.0000 - loss: 0.1860 - val_accuracy: 0.9870 - val_loss: 0.1440\n",
      "Epoch 3/20\n",
      "\u001b[1m95/95\u001b[0m \u001b[32m━━━━━━━━━━━━━━━━━━━━\u001b[0m\u001b[37m\u001b[0m \u001b[1m81s\u001b[0m 849ms/step - accuracy: 0.9635 - loss: 0.1606 - val_accuracy: 0.9909 - val_loss: 0.0725\n",
      "Epoch 4/20\n",
      "\u001b[1m95/95\u001b[0m \u001b[32m━━━━━━━━━━━━━━━━━━━━\u001b[0m\u001b[37m\u001b[0m \u001b[1m11s\u001b[0m 112ms/step - accuracy: 1.0000 - loss: 0.0300 - val_accuracy: 0.9909 - val_loss: 0.0721\n",
      "Epoch 5/20\n",
      "\u001b[1m95/95\u001b[0m \u001b[32m━━━━━━━━━━━━━━━━━━━━\u001b[0m\u001b[37m\u001b[0m \u001b[1m81s\u001b[0m 852ms/step - accuracy: 0.9622 - loss: 0.1200 - val_accuracy: 0.9935 - val_loss: 0.0511\n",
      "Epoch 6/20\n",
      "\u001b[1m95/95\u001b[0m \u001b[32m━━━━━━━━━━━━━━━━━━━━\u001b[0m\u001b[37m\u001b[0m \u001b[1m11s\u001b[0m 113ms/step - accuracy: 0.9062 - loss: 0.1591 - val_accuracy: 0.9935 - val_loss: 0.0512\n",
      "Epoch 7/20\n",
      "\u001b[1m95/95\u001b[0m \u001b[32m━━━━━━━━━━━━━━━━━━━━\u001b[0m\u001b[37m\u001b[0m \u001b[1m84s\u001b[0m 883ms/step - accuracy: 0.9850 - loss: 0.0653 - val_accuracy: 0.9922 - val_loss: 0.0420\n",
      "Epoch 8/20\n",
      "\u001b[1m95/95\u001b[0m \u001b[32m━━━━━━━━━━━━━━━━━━━━\u001b[0m\u001b[37m\u001b[0m \u001b[1m10s\u001b[0m 100ms/step - accuracy: 1.0000 - loss: 0.0501 - val_accuracy: 0.9922 - val_loss: 0.0419\n",
      "Epoch 9/20\n",
      "\u001b[1m95/95\u001b[0m \u001b[32m━━━━━━━━━━━━━━━━━━━━\u001b[0m\u001b[37m\u001b[0m \u001b[1m87s\u001b[0m 913ms/step - accuracy: 0.9821 - loss: 0.0632 - val_accuracy: 0.9909 - val_loss: 0.0369\n",
      "Epoch 10/20\n",
      "\u001b[1m95/95\u001b[0m \u001b[32m━━━━━━━━━━━━━━━━━━━━\u001b[0m\u001b[37m\u001b[0m \u001b[1m11s\u001b[0m 117ms/step - accuracy: 0.9688 - loss: 0.0684 - val_accuracy: 0.9909 - val_loss: 0.0369\n",
      "Epoch 11/20\n",
      "\u001b[1m95/95\u001b[0m \u001b[32m━━━━━━━━━━━━━━━━━━━━\u001b[0m\u001b[37m\u001b[0m \u001b[1m78s\u001b[0m 819ms/step - accuracy: 0.9833 - loss: 0.0583 - val_accuracy: 0.9909 - val_loss: 0.0347\n",
      "Epoch 12/20\n",
      "\u001b[1m95/95\u001b[0m \u001b[32m━━━━━━━━━━━━━━━━━━━━\u001b[0m\u001b[37m\u001b[0m \u001b[1m10s\u001b[0m 98ms/step - accuracy: 1.0000 - loss: 0.0284 - val_accuracy: 0.9909 - val_loss: 0.0353\n",
      "Epoch 13/20\n",
      "\u001b[1m95/95\u001b[0m \u001b[32m━━━━━━━━━━━━━━━━━━━━\u001b[0m\u001b[37m\u001b[0m \u001b[1m78s\u001b[0m 825ms/step - accuracy: 0.9853 - loss: 0.0546 - val_accuracy: 0.9922 - val_loss: 0.0346\n",
      "Epoch 14/20\n",
      "\u001b[1m95/95\u001b[0m \u001b[32m━━━━━━━━━━━━━━━━━━━━\u001b[0m\u001b[37m\u001b[0m \u001b[1m11s\u001b[0m 109ms/step - accuracy: 0.9688 - loss: 0.0516 - val_accuracy: 0.9922 - val_loss: 0.0346\n",
      "Epoch 15/20\n",
      "\u001b[1m95/95\u001b[0m \u001b[32m━━━━━━━━━━━━━━━━━━━━\u001b[0m\u001b[37m\u001b[0m \u001b[1m83s\u001b[0m 873ms/step - accuracy: 0.9843 - loss: 0.0502 - val_accuracy: 0.9935 - val_loss: 0.0286\n",
      "Epoch 16/20\n",
      "\u001b[1m95/95\u001b[0m \u001b[32m━━━━━━━━━━━━━━━━━━━━\u001b[0m\u001b[37m\u001b[0m \u001b[1m10s\u001b[0m 100ms/step - accuracy: 1.0000 - loss: 0.0237 - val_accuracy: 0.9935 - val_loss: 0.0286\n",
      "Epoch 17/20\n",
      "\u001b[1m95/95\u001b[0m \u001b[32m━━━━━━━━━━━━━━━━━━━━\u001b[0m\u001b[37m\u001b[0m \u001b[1m82s\u001b[0m 866ms/step - accuracy: 0.9861 - loss: 0.0479 - val_accuracy: 0.9935 - val_loss: 0.0277\n",
      "Epoch 18/20\n",
      "\u001b[1m95/95\u001b[0m \u001b[32m━━━━━━━━━━━━━━━━━━━━\u001b[0m\u001b[37m\u001b[0m \u001b[1m10s\u001b[0m 105ms/step - accuracy: 1.0000 - loss: 0.0268 - val_accuracy: 0.9935 - val_loss: 0.0276\n",
      "Epoch 19/20\n",
      "\u001b[1m95/95\u001b[0m \u001b[32m━━━━━━━━━━━━━━━━━━━━\u001b[0m\u001b[37m\u001b[0m \u001b[1m86s\u001b[0m 903ms/step - accuracy: 0.9867 - loss: 0.0517 - val_accuracy: 0.9922 - val_loss: 0.0291\n",
      "Epoch 20/20\n",
      "\u001b[1m95/95\u001b[0m \u001b[32m━━━━━━━━━━━━━━━━━━━━\u001b[0m\u001b[37m\u001b[0m \u001b[1m11s\u001b[0m 112ms/step - accuracy: 1.0000 - loss: 0.0306 - val_accuracy: 0.9922 - val_loss: 0.0290\n"
     ]
    }
   ],
   "source": [
    "# Loop over all Layers in the base model and freeze them so they will\n",
    "# *not* be updated during the first training process\n",
    "for layer in baseModel. layers:\n",
    "    layer. trainable = False\n",
    "\n",
    "# compile our model\n",
    "print(\"[INFO] compiling model ... \")\n",
    "opt = Adam(learning_rate=INIT_LR, decay=INIT_LR / EPOCHS)# decay is used to reduce the learning rate at each epoch\n",
    "model.compile(loss=\"binary_crossentropy\", optimizer=opt, metrics=[\"accuracy\"])\n",
    "\n",
    "# train the head of the network\n",
    "print(\"[INFO] training head ... \")\n",
    "H = model.fit(\n",
    "    aug.flow(trainX, trainY, batch_size=BS),\n",
    "    steps_per_epoch=len(trainX) // BS,\n",
    "    validation_data=(testX, testY),\n",
    "    validation_steps=len(testX) // BS,\n",
    "    epochs=EPOCHS)"
   ]
  },
  {
   "cell_type": "code",
   "execution_count": 11,
   "id": "769d510e",
   "metadata": {},
   "outputs": [
    {
     "name": "stdout",
     "output_type": "stream",
     "text": [
      "input_layer False\n",
      "Conv1 False\n",
      "bn_Conv1 False\n",
      "Conv1_relu False\n",
      "expanded_conv_depthwise False\n",
      "expanded_conv_depthwise_BN False\n",
      "expanded_conv_depthwise_relu False\n",
      "expanded_conv_project False\n",
      "expanded_conv_project_BN False\n",
      "block_1_expand False\n",
      "block_1_expand_BN False\n",
      "block_1_expand_relu False\n",
      "block_1_pad False\n",
      "block_1_depthwise False\n",
      "block_1_depthwise_BN False\n",
      "block_1_depthwise_relu False\n",
      "block_1_project False\n",
      "block_1_project_BN False\n",
      "block_2_expand False\n",
      "block_2_expand_BN False\n",
      "block_2_expand_relu False\n",
      "block_2_depthwise False\n",
      "block_2_depthwise_BN False\n",
      "block_2_depthwise_relu False\n",
      "block_2_project False\n",
      "block_2_project_BN False\n",
      "block_2_add False\n",
      "block_3_expand False\n",
      "block_3_expand_BN False\n",
      "block_3_expand_relu False\n",
      "block_3_pad False\n",
      "block_3_depthwise False\n",
      "block_3_depthwise_BN False\n",
      "block_3_depthwise_relu False\n",
      "block_3_project False\n",
      "block_3_project_BN False\n",
      "block_4_expand False\n",
      "block_4_expand_BN False\n",
      "block_4_expand_relu False\n",
      "block_4_depthwise False\n",
      "block_4_depthwise_BN False\n",
      "block_4_depthwise_relu False\n",
      "block_4_project False\n",
      "block_4_project_BN False\n",
      "block_4_add False\n",
      "block_5_expand False\n",
      "block_5_expand_BN False\n",
      "block_5_expand_relu False\n",
      "block_5_depthwise False\n",
      "block_5_depthwise_BN False\n",
      "block_5_depthwise_relu False\n",
      "block_5_project False\n",
      "block_5_project_BN False\n",
      "block_5_add False\n",
      "block_6_expand False\n",
      "block_6_expand_BN False\n",
      "block_6_expand_relu False\n",
      "block_6_pad False\n",
      "block_6_depthwise False\n",
      "block_6_depthwise_BN False\n",
      "block_6_depthwise_relu False\n",
      "block_6_project False\n",
      "block_6_project_BN False\n",
      "block_7_expand False\n",
      "block_7_expand_BN False\n",
      "block_7_expand_relu False\n",
      "block_7_depthwise False\n",
      "block_7_depthwise_BN False\n",
      "block_7_depthwise_relu False\n",
      "block_7_project False\n",
      "block_7_project_BN False\n",
      "block_7_add False\n",
      "block_8_expand False\n",
      "block_8_expand_BN False\n",
      "block_8_expand_relu False\n",
      "block_8_depthwise False\n",
      "block_8_depthwise_BN False\n",
      "block_8_depthwise_relu False\n",
      "block_8_project False\n",
      "block_8_project_BN False\n",
      "block_8_add False\n",
      "block_9_expand False\n",
      "block_9_expand_BN False\n",
      "block_9_expand_relu False\n",
      "block_9_depthwise False\n",
      "block_9_depthwise_BN False\n",
      "block_9_depthwise_relu False\n",
      "block_9_project False\n",
      "block_9_project_BN False\n",
      "block_9_add False\n",
      "block_10_expand False\n",
      "block_10_expand_BN False\n",
      "block_10_expand_relu False\n",
      "block_10_depthwise False\n",
      "block_10_depthwise_BN False\n",
      "block_10_depthwise_relu False\n",
      "block_10_project False\n",
      "block_10_project_BN False\n",
      "block_11_expand False\n",
      "block_11_expand_BN False\n",
      "block_11_expand_relu False\n",
      "block_11_depthwise False\n",
      "block_11_depthwise_BN False\n",
      "block_11_depthwise_relu False\n",
      "block_11_project False\n",
      "block_11_project_BN False\n",
      "block_11_add False\n",
      "block_12_expand False\n",
      "block_12_expand_BN False\n",
      "block_12_expand_relu False\n",
      "block_12_depthwise False\n",
      "block_12_depthwise_BN False\n",
      "block_12_depthwise_relu False\n",
      "block_12_project False\n",
      "block_12_project_BN False\n",
      "block_12_add False\n",
      "block_13_expand False\n",
      "block_13_expand_BN False\n",
      "block_13_expand_relu False\n",
      "block_13_pad False\n",
      "block_13_depthwise False\n",
      "block_13_depthwise_BN False\n",
      "block_13_depthwise_relu False\n",
      "block_13_project False\n",
      "block_13_project_BN False\n",
      "block_14_expand False\n",
      "block_14_expand_BN False\n",
      "block_14_expand_relu False\n",
      "block_14_depthwise False\n",
      "block_14_depthwise_BN False\n",
      "block_14_depthwise_relu False\n",
      "block_14_project False\n",
      "block_14_project_BN False\n",
      "block_14_add False\n",
      "block_15_expand False\n",
      "block_15_expand_BN False\n",
      "block_15_expand_relu False\n",
      "block_15_depthwise False\n",
      "block_15_depthwise_BN False\n",
      "block_15_depthwise_relu False\n",
      "block_15_project False\n",
      "block_15_project_BN False\n",
      "block_15_add False\n",
      "block_16_expand False\n",
      "block_16_expand_BN False\n",
      "block_16_expand_relu False\n",
      "block_16_depthwise False\n",
      "block_16_depthwise_BN False\n",
      "block_16_depthwise_relu False\n",
      "block_16_project False\n",
      "block_16_project_BN False\n",
      "Conv_1 False\n",
      "Conv_1_bn False\n",
      "out_relu False\n",
      "average_pooling2d True\n",
      "flatten True\n",
      "dense True\n",
      "dropout True\n",
      "dense_1 True\n"
     ]
    }
   ],
   "source": [
    "for l in model.layers:\n",
    "    print(l.name, l.trainable)"
   ]
  },
  {
   "cell_type": "code",
   "execution_count": 12,
   "id": "25f99d53",
   "metadata": {},
   "outputs": [
    {
     "name": "stdout",
     "output_type": "stream",
     "text": [
      "[INFO] evaluating network ... \n",
      "\u001b[1m24/24\u001b[0m \u001b[32m━━━━━━━━━━━━━━━━━━━━\u001b[0m\u001b[37m\u001b[0m \u001b[1m14s\u001b[0m 511ms/step\n"
     ]
    }
   ],
   "source": [
    "# make predictions on the testing set\n",
    "print(\"[INFO] evaluating network ... \")\n",
    "predIdxs = model.predict(testX, batch_size=BS)\n",
    "\n",
    "# for each image in the testing set we need to find the index of the\n",
    "# Label with corresponding largest predicted probability\n",
    "predIdxs = np.argmax(predIdxs, axis=1)"
   ]
  },
  {
   "cell_type": "code",
   "execution_count": 13,
   "id": "2cae246d",
   "metadata": {},
   "outputs": [
    {
     "name": "stdout",
     "output_type": "stream",
     "text": [
      "              precision    recall  f1-score   support\n",
      "\n",
      "   with_mask       0.99      0.99      0.99       383\n",
      "without_mask       0.99      0.99      0.99       384\n",
      "\n",
      "    accuracy                           0.99       767\n",
      "   macro avg       0.99      0.99      0.99       767\n",
      "weighted avg       0.99      0.99      0.99       767\n",
      "\n"
     ]
    }
   ],
   "source": [
    "# show a nicely formatted classification report\n",
    "print(classification_report(testY.argmax(axis=1), predIdxs,\n",
    "    target_names=lb.classes_))"
   ]
  },
  {
   "cell_type": "code",
   "execution_count": null,
   "id": "c1125813",
   "metadata": {},
   "outputs": [
    {
     "name": "stderr",
     "output_type": "stream",
     "text": [
      "WARNING:absl:You are saving your model as an HDF5 file via `model.save()` or `keras.saving.save_model(model)`. This file format is considered legacy. We recommend using instead the native Keras format, e.g. `model.save('my_model.keras')` or `keras.saving.save_model(model, 'my_model.keras')`. \n"
     ]
    },
    {
     "name": "stdout",
     "output_type": "stream",
     "text": [
      "[INFO] saving mask detector model ... \n"
     ]
    }
   ],
   "source": [
    "# serialize the model to disk\n",
    "print(\"[INFO] saving mask detector model ... \")\n",
    "model.save(\"output/mask_detector.h5\")# we will use this model to make detection in real-time in the next notebook(54)"
   ]
  },
  {
   "cell_type": "code",
   "execution_count": null,
   "id": "0b82bec5",
   "metadata": {},
   "outputs": [
    {
     "data": {
      "image/png": "[encoded data removed]",
      "text/plain": [
       "<Figure size 640x480 with 1 Axes>"
      ]
     },
     "metadata": {},
     "output_type": "display_data"
    }
   ],
   "source": [
    "\n",
    "# plot the training loss and accuracy\n",
    "N = EPOCHS\n",
    "plt.style.use(\"ggplot\")\n",
    "plt.figure()\n",
    "plt.plot(np.arange(0, N), H.history[\"loss\"], label=\"train_loss\")\n",
    "plt.plot(np.arange(0, N), H.history[\"val_loss\"], label=\"val_loss\")\n",
    "plt.plot(np.arange(0, N), H.history[\"accuracy\"], label=\"train_acc\")\n",
    "plt.plot(np.arange(0, N), H.history[\"val_accuracy\"], label=\"val_acc\")\n",
    "plt.title(\"Training Loss and Accuracy\")\n",
    "plt.xlabel(\"Epoch #\")\n",
    "plt.ylabel(\"Loss/Accuracy\")\n",
    "plt.legend(loc=\"lower left\")"
   ]
  }
 ],
 "metadata": {
  "kernelspec": {
   "display_name": "base",
   "language": "python",
   "name": "python3"
  },
  "language_info": {
   "codemirror_mode": {
    "name": "ipython",
    "version": 3
   },
   "file_extension": ".py",
   "mimetype": "text/x-python",
   "name": "python",
   "nbconvert_exporter": "python",
   "pygments_lexer": "ipython3",
   "version": "3.12.7"
  }
 },
 "nbformat": 4,
 "nbformat_minor": 5
}
